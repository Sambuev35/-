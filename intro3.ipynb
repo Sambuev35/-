{
 "cells": [
  {
   "cell_type": "code",
   "execution_count": 1,
   "id": "d7c0ff6c",
   "metadata": {},
   "outputs": [],
   "source": [
    "import os\n",
    "import tabula\n",
    "from tabula import convert_into\n",
    "from openpyxl import Workbook\n",
    "import csv\n",
    "import pandas as pd\n",
    "import webbrowser"
   ]
  },
  {
   "cell_type": "code",
   "execution_count": 2,
   "id": "71b52a8c",
   "metadata": {},
   "outputs": [],
   "source": [
    "urlpdf=\"Matrix.pdf\"\n",
    "pages=\"7-10\" # <- some problems with whitespaces\n",
    "pages=\"5-6\"\n",
    "\n",
    "urlpdf=\"foo.pdf\"\n",
    "pages=\"all\"\n",
    "\n",
    "urlpdf=\"http://www.cbr.ru/collection/collection/file/7783/bbsq0402r.pdf\"\n",
    "webbrowser.open(urlpdf)\n",
    "pages=\"5-6\"\n",
    "\n",
    "urlpdf=\"https://cbr.ru/Collection/Collection/File/43664/Bbs2212e.pdf\"\n",
    "webbrowser.open(urlpdf)\n",
    "pages=\"7-10\"\n",
    "\n",
    "urlpdf=\"https://cbr.ru/Collection/Collection/File/43652/Bbs2212r.pdf\"\n",
    "webbrowser.open(urlpdf)\n",
    "pages=\"7-10\""
   ]
  },
  {
   "cell_type": "code",
   "execution_count": 6,
   "id": "2aa3473d",
   "metadata": {},
   "outputs": [
    {
     "ename": "ModuleNotFoundError",
     "evalue": "No module named 'PyPDF2'",
     "output_type": "error",
     "traceback": [
      "\u001b[1;31m---------------------------------------------------------------------------\u001b[0m",
      "\u001b[1;31mModuleNotFoundError\u001b[0m                       Traceback (most recent call last)",
      "Cell \u001b[1;32mIn[6], line 1\u001b[0m\n\u001b[1;32m----> 1\u001b[0m \u001b[38;5;28;01mimport\u001b[39;00m \u001b[38;5;21;01mPyPDF2\u001b[39;00m\n\u001b[0;32m      2\u001b[0m \u001b[38;5;28;01mimport\u001b[39;00m \u001b[38;5;21;01mcsv\u001b[39;00m\n\u001b[0;32m      3\u001b[0m \u001b[38;5;66;03m# Open the PDF file\u001b[39;00m\n",
      "\u001b[1;31mModuleNotFoundError\u001b[0m: No module named 'PyPDF2'"
     ]
    }
   ],
   "source": [
    "import PyPDF2\n",
    "import csv\n",
    "# Open the PDF file\n",
    "pdf_file = open('Matrix.pdf', 'rb')\n",
    "# Create a CSV writer object\n",
    "csv_writer = csv.writer(open('example.csv', 'w', newline=''))\n",
    "# Loop through each page in the PDF file\n",
    "for page in pdf_file:\n",
    "    # Extract the text from the page\n",
    "    page_text = page.extract_text()\n",
    "    # Write the text to the CSV file\n",
    "    csv_writer.writerow(['Text'])\n",
    "    csv_writer.writerow([page_text])\n",
    "# Close the PDF file and the CSV file\n",
    "pdf_file.close()\n",
    "csv_writer.close()"
   ]
  },
  {
   "cell_type": "code",
   "execution_count": 7,
   "id": "a29e8286",
   "metadata": {},
   "outputs": [
    {
     "name": "stdout",
     "output_type": "stream",
     "text": [
      "Collecting PyPDF2\n",
      "  Obtaining dependency information for PyPDF2 from https://files.pythonhosted.org/packages/8e/5e/c86a5643653825d3c913719e788e41386bee415c2b87b4f955432f2de6b2/pypdf2-3.0.1-py3-none-any.whl.metadata\n",
      "  Downloading pypdf2-3.0.1-py3-none-any.whl.metadata (6.8 kB)\n",
      "Downloading pypdf2-3.0.1-py3-none-any.whl (232 kB)\n",
      "   ---------------------------------------- 0.0/232.6 kB ? eta -:--:--\n",
      "   ----- ---------------------------------- 30.7/232.6 kB 1.4 MB/s eta 0:00:01\n",
      "   ------------------------ --------------- 143.4/232.6 kB 1.7 MB/s eta 0:00:01\n",
      "   ---------------------------------------- 232.6/232.6 kB 2.4 MB/s eta 0:00:00\n",
      "Installing collected packages: PyPDF2\n",
      "Successfully installed PyPDF2-3.0.1\n"
     ]
    }
   ],
   "source": [
    "! pip install PyPDF2"
   ]
  },
  {
   "cell_type": "code",
   "execution_count": 8,
   "id": "c58ede15",
   "metadata": {},
   "outputs": [
    {
     "ename": "FileNotFoundError",
     "evalue": "[Errno 2] No such file or directory: 'Matrix.pdf'",
     "output_type": "error",
     "traceback": [
      "\u001b[1;31m---------------------------------------------------------------------------\u001b[0m",
      "\u001b[1;31mFileNotFoundError\u001b[0m                         Traceback (most recent call last)",
      "Cell \u001b[1;32mIn[8], line 4\u001b[0m\n\u001b[0;32m      2\u001b[0m \u001b[38;5;28;01mimport\u001b[39;00m \u001b[38;5;21;01mcsv\u001b[39;00m\n\u001b[0;32m      3\u001b[0m \u001b[38;5;66;03m# Open the PDF file\u001b[39;00m\n\u001b[1;32m----> 4\u001b[0m pdf_file \u001b[38;5;241m=\u001b[39m \u001b[38;5;28mopen\u001b[39m(\u001b[38;5;124m'\u001b[39m\u001b[38;5;124mMatrix.pdf\u001b[39m\u001b[38;5;124m'\u001b[39m, \u001b[38;5;124m'\u001b[39m\u001b[38;5;124mrb\u001b[39m\u001b[38;5;124m'\u001b[39m)\n\u001b[0;32m      5\u001b[0m \u001b[38;5;66;03m# Create a CSV writer object\u001b[39;00m\n\u001b[0;32m      6\u001b[0m csv_writer \u001b[38;5;241m=\u001b[39m csv\u001b[38;5;241m.\u001b[39mwriter(\u001b[38;5;28mopen\u001b[39m(\u001b[38;5;124m'\u001b[39m\u001b[38;5;124mexample.csv\u001b[39m\u001b[38;5;124m'\u001b[39m, \u001b[38;5;124m'\u001b[39m\u001b[38;5;124mw\u001b[39m\u001b[38;5;124m'\u001b[39m, newline\u001b[38;5;241m=\u001b[39m\u001b[38;5;124m'\u001b[39m\u001b[38;5;124m'\u001b[39m))\n",
      "File \u001b[1;32m~\\anaconda3\\Lib\\site-packages\\IPython\\core\\interactiveshell.py:284\u001b[0m, in \u001b[0;36m_modified_open\u001b[1;34m(file, *args, **kwargs)\u001b[0m\n\u001b[0;32m    277\u001b[0m \u001b[38;5;28;01mif\u001b[39;00m file \u001b[38;5;129;01min\u001b[39;00m {\u001b[38;5;241m0\u001b[39m, \u001b[38;5;241m1\u001b[39m, \u001b[38;5;241m2\u001b[39m}:\n\u001b[0;32m    278\u001b[0m     \u001b[38;5;28;01mraise\u001b[39;00m \u001b[38;5;167;01mValueError\u001b[39;00m(\n\u001b[0;32m    279\u001b[0m         \u001b[38;5;124mf\u001b[39m\u001b[38;5;124m\"\u001b[39m\u001b[38;5;124mIPython won\u001b[39m\u001b[38;5;124m'\u001b[39m\u001b[38;5;124mt let you open fd=\u001b[39m\u001b[38;5;132;01m{\u001b[39;00mfile\u001b[38;5;132;01m}\u001b[39;00m\u001b[38;5;124m by default \u001b[39m\u001b[38;5;124m\"\u001b[39m\n\u001b[0;32m    280\u001b[0m         \u001b[38;5;124m\"\u001b[39m\u001b[38;5;124mas it is likely to crash IPython. If you know what you are doing, \u001b[39m\u001b[38;5;124m\"\u001b[39m\n\u001b[0;32m    281\u001b[0m         \u001b[38;5;124m\"\u001b[39m\u001b[38;5;124myou can use builtins\u001b[39m\u001b[38;5;124m'\u001b[39m\u001b[38;5;124m open.\u001b[39m\u001b[38;5;124m\"\u001b[39m\n\u001b[0;32m    282\u001b[0m     )\n\u001b[1;32m--> 284\u001b[0m \u001b[38;5;28;01mreturn\u001b[39;00m io_open(file, \u001b[38;5;241m*\u001b[39margs, \u001b[38;5;241m*\u001b[39m\u001b[38;5;241m*\u001b[39mkwargs)\n",
      "\u001b[1;31mFileNotFoundError\u001b[0m: [Errno 2] No such file or directory: 'Matrix.pdf'"
     ]
    }
   ],
   "source": [
    "import PyPDF2\n",
    "import csv\n",
    "# Open the PDF file\n",
    "pdf_file = open('Matrix.pdf', 'rb')\n",
    "# Create a CSV writer object\n",
    "csv_writer = csv.writer(open('example.csv', 'w', newline=''))\n",
    "# Loop through each page in the PDF file\n",
    "for page in pdf_file:\n",
    "    # Extract the text from the page\n",
    "    page_text = page.extract_text()\n",
    "    # Write the text to the CSV file\n",
    "    csv_writer.writerow(['Text'])\n",
    "    csv_writer.writerow([page_text])\n",
    "# Close the PDF file and the CSV file\n",
    "pdf_file.close()\n",
    "csv_writer.close()"
   ]
  },
  {
   "cell_type": "code",
   "execution_count": null,
   "id": "00dc31b4",
   "metadata": {},
   "outputs": [],
   "source": []
  }
 ],
 "metadata": {
  "kernelspec": {
   "display_name": "Python 3 (ipykernel)",
   "language": "python",
   "name": "python3"
  },
  "language_info": {
   "codemirror_mode": {
    "name": "ipython",
    "version": 3
   },
   "file_extension": ".py",
   "mimetype": "text/x-python",
   "name": "python",
   "nbconvert_exporter": "python",
   "pygments_lexer": "ipython3",
   "version": "3.11.4"
  }
 },
 "nbformat": 4,
 "nbformat_minor": 5
}
