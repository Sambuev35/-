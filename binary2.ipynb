{
 "cells": [
  {
   "cell_type": "code",
   "execution_count": 6,
   "id": "4ed20bef",
   "metadata": {},
   "outputs": [],
   "source": [
    "import os\n",
    "import pandas as pd\n",
    "import matplotlib.pyplot as plt\n",
    "import webbrowser\n",
    "from scipy.stats import chi2\n",
    "import numpy as np\n",
    "import statsmodels.api as sm\n",
    "from statsmodels.stats.diagnostic import het_breuschpagan\n",
    "lowess = sm.nonparametric.lowess\n",
    "import seaborn as sns\n",
    "import matplotlib.image as mpimg"
   ]
  },
  {
   "cell_type": "code",
   "execution_count": 7,
   "id": "ecb4aaa6",
   "metadata": {},
   "outputs": [
    {
     "data": {
      "text/plain": [
       "{'deny': 'Factor. Was the mortgage denied?',\n",
       " 'pirat': 'Payments to income ratio.',\n",
       " 'hirat': 'Housing expense to income ratio.',\n",
       " 'lvrat': 'Loan to value ratio.',\n",
       " 'chist': 'Credit history: consumer payments.',\n",
       " 'mhist': 'Credit history: mortgage payments.',\n",
       " 'phist': 'Factor. Public bad credit record?',\n",
       " 'unemp': \"1989 Massachusetts unemployment rate in applicant's industry.\",\n",
       " 'selfemp': 'Factor. Is the individual self-employed?',\n",
       " 'insurance': 'Factor. Was the individual denied mortgage insurance?',\n",
       " 'condomin': 'Factor. Is the unit a condominium?',\n",
       " 'afam': 'Factor. Is the individual African-American?',\n",
       " 'single': 'Factor. Is the individual single?',\n",
       " 'hschool': 'Factor. Does the individual have a high-school diploma?'}"
      ]
     },
     "metadata": {},
     "output_type": "display_data"
    }
   ],
   "source": [
    "os.getcwd()\n",
    "\n",
    "# Write or choose your path here !!! >>\n",
    "path = \"C:/Users/mixas/binary 2\"\n",
    "fileName = \"hmda\"\n",
    "os.chdir(path)\n",
    "\n",
    "from my_tests import tabstat\n",
    "from my_summary_col import summary_col\n",
    "df = pd.read_stata(fileName +'.dta', iterator=True)\n",
    "display(df.variable_labels())"
   ]
  },
  {
   "cell_type": "code",
   "execution_count": 8,
   "id": "147a478e",
   "metadata": {},
   "outputs": [
    {
     "name": "stdout",
     "output_type": "stream",
     "text": [
      "<class 'pandas.core.frame.DataFrame'>\n",
      "Int64Index: 2380 entries, 0 to 2379\n",
      "Data columns (total 14 columns):\n",
      " #   Column     Non-Null Count  Dtype   \n",
      "---  ------     --------------  -----   \n",
      " 0   deny       2380 non-null   category\n",
      " 1   pirat      2380 non-null   float64 \n",
      " 2   hirat      2380 non-null   float64 \n",
      " 3   lvrat      2380 non-null   float64 \n",
      " 4   chist      2380 non-null   category\n",
      " 5   mhist      2380 non-null   category\n",
      " 6   phist      2380 non-null   category\n",
      " 7   unemp      2380 non-null   float64 \n",
      " 8   selfemp    2380 non-null   category\n",
      " 9   insurance  2380 non-null   category\n",
      " 10  condomin   2380 non-null   category\n",
      " 11  afam       2380 non-null   category\n",
      " 12  single     2380 non-null   category\n",
      " 13  hschool    2380 non-null   category\n",
      "dtypes: category(10), float64(4)\n",
      "memory usage: 117.6 KB\n",
      "\n",
      " None\n"
     ]
    }
   ],
   "source": [
    "# read data >>\n",
    "dfall = pd.read_stata(fileName +'.dta')\n",
    "\n",
    "print('\\n',dfall.info())"
   ]
  },
  {
   "cell_type": "code",
   "execution_count": 9,
   "id": "77adb3ca",
   "metadata": {},
   "outputs": [
    {
     "data": {
      "text/html": [
       "<div>\n",
       "<style scoped>\n",
       "    .dataframe tbody tr th:only-of-type {\n",
       "        vertical-align: middle;\n",
       "    }\n",
       "\n",
       "    .dataframe tbody tr th {\n",
       "        vertical-align: top;\n",
       "    }\n",
       "\n",
       "    .dataframe thead th {\n",
       "        text-align: right;\n",
       "    }\n",
       "</style>\n",
       "<table border=\"1\" class=\"dataframe\">\n",
       "  <thead>\n",
       "    <tr style=\"text-align: right;\">\n",
       "      <th></th>\n",
       "      <th>count</th>\n",
       "      <th>mean</th>\n",
       "      <th>std</th>\n",
       "      <th>min</th>\n",
       "      <th>max</th>\n",
       "    </tr>\n",
       "  </thead>\n",
       "  <tbody>\n",
       "    <tr>\n",
       "      <th>pirat</th>\n",
       "      <td>2380.0</td>\n",
       "      <td>0.33</td>\n",
       "      <td>0.11</td>\n",
       "      <td>0.00</td>\n",
       "      <td>3.00</td>\n",
       "    </tr>\n",
       "    <tr>\n",
       "      <th>hirat</th>\n",
       "      <td>2380.0</td>\n",
       "      <td>0.26</td>\n",
       "      <td>0.10</td>\n",
       "      <td>0.00</td>\n",
       "      <td>3.00</td>\n",
       "    </tr>\n",
       "    <tr>\n",
       "      <th>lvrat</th>\n",
       "      <td>2380.0</td>\n",
       "      <td>0.74</td>\n",
       "      <td>0.18</td>\n",
       "      <td>0.02</td>\n",
       "      <td>1.95</td>\n",
       "    </tr>\n",
       "    <tr>\n",
       "      <th>unemp</th>\n",
       "      <td>2380.0</td>\n",
       "      <td>3.77</td>\n",
       "      <td>2.03</td>\n",
       "      <td>1.80</td>\n",
       "      <td>10.60</td>\n",
       "    </tr>\n",
       "  </tbody>\n",
       "</table>\n",
       "</div>"
      ],
      "text/plain": [
       "        count  mean   std   min    max\n",
       "pirat  2380.0  0.33  0.11  0.00   3.00\n",
       "hirat  2380.0  0.26  0.10  0.00   3.00\n",
       "lvrat  2380.0  0.74  0.18  0.02   1.95\n",
       "unemp  2380.0  3.77  2.03  1.80  10.60"
      ]
     },
     "metadata": {},
     "output_type": "display_data"
    }
   ],
   "source": [
    "# Descriptive statistics >>\n",
    "display(tabstat(2,dfall))"
   ]
  },
  {
   "cell_type": "code",
   "execution_count": 15,
   "id": "5b62d7a5",
   "metadata": {},
   "outputs": [
    {
     "ename": "AttributeError",
     "evalue": "module 'pandas' has no attribute 'read_dta'",
     "output_type": "error",
     "traceback": [
      "\u001b[1;31m---------------------------------------------------------------------------\u001b[0m",
      "\u001b[1;31mAttributeError\u001b[0m                            Traceback (most recent call last)",
      "Cell \u001b[1;32mIn[15], line 1\u001b[0m\n\u001b[1;32m----> 1\u001b[0m df1 \u001b[38;5;241m=\u001b[39m pd\u001b[38;5;241m.\u001b[39mread_dta(\u001b[38;5;124m\"\u001b[39m\u001b[38;5;124mhmda.dta\u001b[39m\u001b[38;5;124m\"\u001b[39m)\n\u001b[0;32m      2\u001b[0m df1\n",
      "File \u001b[1;32m~\\anaconda3\\Lib\\site-packages\\pandas\\__init__.py:264\u001b[0m, in \u001b[0;36m__getattr__\u001b[1;34m(name)\u001b[0m\n\u001b[0;32m    260\u001b[0m     \u001b[38;5;28;01mfrom\u001b[39;00m \u001b[38;5;21;01mpandas\u001b[39;00m\u001b[38;5;21;01m.\u001b[39;00m\u001b[38;5;21;01mcore\u001b[39;00m\u001b[38;5;21;01m.\u001b[39;00m\u001b[38;5;21;01marrays\u001b[39;00m\u001b[38;5;21;01m.\u001b[39;00m\u001b[38;5;21;01msparse\u001b[39;00m \u001b[38;5;28;01mimport\u001b[39;00m SparseArray \u001b[38;5;28;01mas\u001b[39;00m _SparseArray\n\u001b[0;32m    262\u001b[0m     \u001b[38;5;28;01mreturn\u001b[39;00m _SparseArray\n\u001b[1;32m--> 264\u001b[0m \u001b[38;5;28;01mraise\u001b[39;00m \u001b[38;5;167;01mAttributeError\u001b[39;00m(\u001b[38;5;124mf\u001b[39m\u001b[38;5;124m\"\u001b[39m\u001b[38;5;124mmodule \u001b[39m\u001b[38;5;124m'\u001b[39m\u001b[38;5;124mpandas\u001b[39m\u001b[38;5;124m'\u001b[39m\u001b[38;5;124m has no attribute \u001b[39m\u001b[38;5;124m'\u001b[39m\u001b[38;5;132;01m{\u001b[39;00mname\u001b[38;5;132;01m}\u001b[39;00m\u001b[38;5;124m'\u001b[39m\u001b[38;5;124m\"\u001b[39m)\n",
      "\u001b[1;31mAttributeError\u001b[0m: module 'pandas' has no attribute 'read_dta'"
     ]
    }
   ],
   "source": [
    "df1 = pd.read_dta(\"hmda.dta\")\n",
    "df1"
   ]
  },
  {
   "cell_type": "code",
   "execution_count": null,
   "id": "45a0c867",
   "metadata": {},
   "outputs": [],
   "source": []
  }
 ],
 "metadata": {
  "kernelspec": {
   "display_name": "Python 3 (ipykernel)",
   "language": "python",
   "name": "python3"
  },
  "language_info": {
   "codemirror_mode": {
    "name": "ipython",
    "version": 3
   },
   "file_extension": ".py",
   "mimetype": "text/x-python",
   "name": "python",
   "nbconvert_exporter": "python",
   "pygments_lexer": "ipython3",
   "version": "3.11.4"
  }
 },
 "nbformat": 4,
 "nbformat_minor": 5
}
