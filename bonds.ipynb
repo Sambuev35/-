{
 "cells": [
  {
   "cell_type": "code",
   "execution_count": 1,
   "id": "89ded2a6",
   "metadata": {},
   "outputs": [
    {
     "name": "stdout",
     "output_type": "stream",
     "text": [
      "Collecting moexapi\n",
      "  Obtaining dependency information for moexapi from https://files.pythonhosted.org/packages/82/1b/5c0eea0ec1b2cd6532ca904ce5cd1de91de7df31c87e41bb7ccfc9bd5418/moexapi-1.5.5-py3-none-any.whl.metadata\n",
      "  Downloading moexapi-1.5.5-py3-none-any.whl.metadata (4.4 kB)\n",
      "Requirement already satisfied: beautifulsoup4 in c:\\users\\mixas\\anaconda3\\lib\\site-packages (from moexapi) (4.12.2)\n",
      "Requirement already satisfied: requests in c:\\users\\mixas\\anaconda3\\lib\\site-packages (from moexapi) (2.31.0)\n",
      "Requirement already satisfied: soupsieve>1.2 in c:\\users\\mixas\\anaconda3\\lib\\site-packages (from beautifulsoup4->moexapi) (2.4)\n",
      "Requirement already satisfied: charset-normalizer<4,>=2 in c:\\users\\mixas\\anaconda3\\lib\\site-packages (from requests->moexapi) (2.0.4)\n",
      "Requirement already satisfied: idna<4,>=2.5 in c:\\users\\mixas\\anaconda3\\lib\\site-packages (from requests->moexapi) (3.4)\n",
      "Requirement already satisfied: urllib3<3,>=1.21.1 in c:\\users\\mixas\\anaconda3\\lib\\site-packages (from requests->moexapi) (1.26.16)\n",
      "Requirement already satisfied: certifi>=2017.4.17 in c:\\users\\mixas\\anaconda3\\lib\\site-packages (from requests->moexapi) (2023.7.22)\n",
      "Downloading moexapi-1.5.5-py3-none-any.whl (12 kB)\n",
      "Installing collected packages: moexapi\n",
      "Successfully installed moexapi-1.5.5\n"
     ]
    }
   ],
   "source": [
    "!pip install moexapi"
   ]
  },
  {
   "cell_type": "code",
   "execution_count": 5,
   "id": "c3df5ae9",
   "metadata": {},
   "outputs": [
    {
     "name": "stdout",
     "output_type": "stream",
     "text": [
      "Collecting pandas_datareader\n",
      "  Obtaining dependency information for pandas_datareader from https://files.pythonhosted.org/packages/3f/16/56c9d648b503619ebe96f726b5f642b68e299b34162ed2d6faa9d7966b7d/pandas_datareader-0.10.0-py3-none-any.whl.metadata\n",
      "  Downloading pandas_datareader-0.10.0-py3-none-any.whl.metadata (2.9 kB)\n",
      "Requirement already satisfied: lxml in c:\\users\\mixas\\anaconda3\\lib\\site-packages (from pandas_datareader) (4.9.2)\n",
      "Requirement already satisfied: pandas>=0.23 in c:\\users\\mixas\\anaconda3\\lib\\site-packages (from pandas_datareader) (1.5.3)\n",
      "Requirement already satisfied: requests>=2.19.0 in c:\\users\\mixas\\anaconda3\\lib\\site-packages (from pandas_datareader) (2.31.0)\n",
      "Requirement already satisfied: python-dateutil>=2.8.1 in c:\\users\\mixas\\anaconda3\\lib\\site-packages (from pandas>=0.23->pandas_datareader) (2.8.2)\n",
      "Requirement already satisfied: pytz>=2020.1 in c:\\users\\mixas\\anaconda3\\lib\\site-packages (from pandas>=0.23->pandas_datareader) (2022.7)\n",
      "Requirement already satisfied: numpy>=1.21.0 in c:\\users\\mixas\\anaconda3\\lib\\site-packages (from pandas>=0.23->pandas_datareader) (1.24.3)\n",
      "Requirement already satisfied: charset-normalizer<4,>=2 in c:\\users\\mixas\\anaconda3\\lib\\site-packages (from requests>=2.19.0->pandas_datareader) (2.0.4)\n",
      "Requirement already satisfied: idna<4,>=2.5 in c:\\users\\mixas\\anaconda3\\lib\\site-packages (from requests>=2.19.0->pandas_datareader) (3.4)\n",
      "Requirement already satisfied: urllib3<3,>=1.21.1 in c:\\users\\mixas\\anaconda3\\lib\\site-packages (from requests>=2.19.0->pandas_datareader) (1.26.16)\n",
      "Requirement already satisfied: certifi>=2017.4.17 in c:\\users\\mixas\\anaconda3\\lib\\site-packages (from requests>=2.19.0->pandas_datareader) (2023.7.22)\n",
      "Requirement already satisfied: six>=1.5 in c:\\users\\mixas\\anaconda3\\lib\\site-packages (from python-dateutil>=2.8.1->pandas>=0.23->pandas_datareader) (1.16.0)\n",
      "Downloading pandas_datareader-0.10.0-py3-none-any.whl (109 kB)\n",
      "   ---------------------------------------- 0.0/109.5 kB ? eta -:--:--\n",
      "   ---------------------- ----------------- 61.4/109.5 kB 1.1 MB/s eta 0:00:01\n",
      "   ---------------------------------------- 109.5/109.5 kB 1.6 MB/s eta 0:00:00\n",
      "Installing collected packages: pandas_datareader\n",
      "Successfully installed pandas_datareader-0.10.0\n"
     ]
    }
   ],
   "source": [
    "!pip install pandas_datareader\n"
   ]
  },
  {
   "cell_type": "code",
   "execution_count": 23,
   "id": "8d0eb2b8",
   "metadata": {},
   "outputs": [],
   "source": [
    "import webbrowser\n",
    "import pandas as pd\n",
    "import pandas_datareader.data as web\n",
    "import datetime as dt\n",
    "import warnings\n",
    "import moexapi\n",
    "from unicodedata import normalize"
   ]
  },
  {
   "cell_type": "code",
   "execution_count": 33,
   "id": "5ffbebba",
   "metadata": {},
   "outputs": [
    {
     "data": {
      "text/plain": [
       "True"
      ]
     },
     "execution_count": 33,
     "metadata": {},
     "output_type": "execute_result"
    }
   ],
   "source": [
    "# lists of bonds >>\n",
    "url=\"https://www.moex.com/s2266#\"\n",
    "webbrowser.open(url)"
   ]
  },
  {
   "cell_type": "code",
   "execution_count": 46,
   "id": "388104b7",
   "metadata": {},
   "outputs": [
    {
     "ename": "HTTPError",
     "evalue": "HTTP Error 403: Forbidden",
     "output_type": "error",
     "traceback": [
      "\u001b[1;31m---------------------------------------------------------------------------\u001b[0m",
      "\u001b[1;31mHTTPError\u001b[0m                                 Traceback (most recent call last)",
      "Cell \u001b[1;32mIn[46], line 2\u001b[0m\n\u001b[0;32m      1\u001b[0m \u001b[38;5;66;03m# list of dataframes with ISINs >>\u001b[39;00m\n\u001b[1;32m----> 2\u001b[0m tables \u001b[38;5;241m=\u001b[39m pd\u001b[38;5;241m.\u001b[39mread_html(url)\n\u001b[0;32m      4\u001b[0m \u001b[38;5;28mprint\u001b[39m(\u001b[38;5;124m'\u001b[39m\u001b[38;5;130;01m\\n\u001b[39;00m\u001b[38;5;124m'\u001b[39m, \u001b[38;5;28mlen\u001b[39m(tables), \u001b[38;5;124m'\u001b[39m\u001b[38;5;124m table(s) available\u001b[39m\u001b[38;5;124m'\u001b[39m)\n",
      "File \u001b[1;32m~\\anaconda3\\Lib\\site-packages\\pandas\\util\\_decorators.py:331\u001b[0m, in \u001b[0;36mdeprecate_nonkeyword_arguments.<locals>.decorate.<locals>.wrapper\u001b[1;34m(*args, **kwargs)\u001b[0m\n\u001b[0;32m    325\u001b[0m \u001b[38;5;28;01mif\u001b[39;00m \u001b[38;5;28mlen\u001b[39m(args) \u001b[38;5;241m>\u001b[39m num_allow_args:\n\u001b[0;32m    326\u001b[0m     warnings\u001b[38;5;241m.\u001b[39mwarn(\n\u001b[0;32m    327\u001b[0m         msg\u001b[38;5;241m.\u001b[39mformat(arguments\u001b[38;5;241m=\u001b[39m_format_argument_list(allow_args)),\n\u001b[0;32m    328\u001b[0m         \u001b[38;5;167;01mFutureWarning\u001b[39;00m,\n\u001b[0;32m    329\u001b[0m         stacklevel\u001b[38;5;241m=\u001b[39mfind_stack_level(),\n\u001b[0;32m    330\u001b[0m     )\n\u001b[1;32m--> 331\u001b[0m \u001b[38;5;28;01mreturn\u001b[39;00m func(\u001b[38;5;241m*\u001b[39margs, \u001b[38;5;241m*\u001b[39m\u001b[38;5;241m*\u001b[39mkwargs)\n",
      "File \u001b[1;32m~\\anaconda3\\Lib\\site-packages\\pandas\\io\\html.py:1205\u001b[0m, in \u001b[0;36mread_html\u001b[1;34m(io, match, flavor, header, index_col, skiprows, attrs, parse_dates, thousands, encoding, decimal, converters, na_values, keep_default_na, displayed_only, extract_links)\u001b[0m\n\u001b[0;32m   1201\u001b[0m validate_header_arg(header)\n\u001b[0;32m   1203\u001b[0m io \u001b[38;5;241m=\u001b[39m stringify_path(io)\n\u001b[1;32m-> 1205\u001b[0m \u001b[38;5;28;01mreturn\u001b[39;00m _parse(\n\u001b[0;32m   1206\u001b[0m     flavor\u001b[38;5;241m=\u001b[39mflavor,\n\u001b[0;32m   1207\u001b[0m     io\u001b[38;5;241m=\u001b[39mio,\n\u001b[0;32m   1208\u001b[0m     match\u001b[38;5;241m=\u001b[39mmatch,\n\u001b[0;32m   1209\u001b[0m     header\u001b[38;5;241m=\u001b[39mheader,\n\u001b[0;32m   1210\u001b[0m     index_col\u001b[38;5;241m=\u001b[39mindex_col,\n\u001b[0;32m   1211\u001b[0m     skiprows\u001b[38;5;241m=\u001b[39mskiprows,\n\u001b[0;32m   1212\u001b[0m     parse_dates\u001b[38;5;241m=\u001b[39mparse_dates,\n\u001b[0;32m   1213\u001b[0m     thousands\u001b[38;5;241m=\u001b[39mthousands,\n\u001b[0;32m   1214\u001b[0m     attrs\u001b[38;5;241m=\u001b[39mattrs,\n\u001b[0;32m   1215\u001b[0m     encoding\u001b[38;5;241m=\u001b[39mencoding,\n\u001b[0;32m   1216\u001b[0m     decimal\u001b[38;5;241m=\u001b[39mdecimal,\n\u001b[0;32m   1217\u001b[0m     converters\u001b[38;5;241m=\u001b[39mconverters,\n\u001b[0;32m   1218\u001b[0m     na_values\u001b[38;5;241m=\u001b[39mna_values,\n\u001b[0;32m   1219\u001b[0m     keep_default_na\u001b[38;5;241m=\u001b[39mkeep_default_na,\n\u001b[0;32m   1220\u001b[0m     displayed_only\u001b[38;5;241m=\u001b[39mdisplayed_only,\n\u001b[0;32m   1221\u001b[0m     extract_links\u001b[38;5;241m=\u001b[39mextract_links,\n\u001b[0;32m   1222\u001b[0m )\n",
      "File \u001b[1;32m~\\anaconda3\\Lib\\site-packages\\pandas\\io\\html.py:986\u001b[0m, in \u001b[0;36m_parse\u001b[1;34m(flavor, io, match, attrs, encoding, displayed_only, extract_links, **kwargs)\u001b[0m\n\u001b[0;32m    983\u001b[0m p \u001b[38;5;241m=\u001b[39m parser(io, compiled_match, attrs, encoding, displayed_only, extract_links)\n\u001b[0;32m    985\u001b[0m \u001b[38;5;28;01mtry\u001b[39;00m:\n\u001b[1;32m--> 986\u001b[0m     tables \u001b[38;5;241m=\u001b[39m p\u001b[38;5;241m.\u001b[39mparse_tables()\n\u001b[0;32m    987\u001b[0m \u001b[38;5;28;01mexcept\u001b[39;00m \u001b[38;5;167;01mValueError\u001b[39;00m \u001b[38;5;28;01mas\u001b[39;00m caught:\n\u001b[0;32m    988\u001b[0m     \u001b[38;5;66;03m# if `io` is an io-like object, check if it's seekable\u001b[39;00m\n\u001b[0;32m    989\u001b[0m     \u001b[38;5;66;03m# and try to rewind it before trying the next parser\u001b[39;00m\n\u001b[0;32m    990\u001b[0m     \u001b[38;5;28;01mif\u001b[39;00m \u001b[38;5;28mhasattr\u001b[39m(io, \u001b[38;5;124m\"\u001b[39m\u001b[38;5;124mseekable\u001b[39m\u001b[38;5;124m\"\u001b[39m) \u001b[38;5;129;01mand\u001b[39;00m io\u001b[38;5;241m.\u001b[39mseekable():\n",
      "File \u001b[1;32m~\\anaconda3\\Lib\\site-packages\\pandas\\io\\html.py:262\u001b[0m, in \u001b[0;36m_HtmlFrameParser.parse_tables\u001b[1;34m(self)\u001b[0m\n\u001b[0;32m    254\u001b[0m \u001b[38;5;28;01mdef\u001b[39;00m \u001b[38;5;21mparse_tables\u001b[39m(\u001b[38;5;28mself\u001b[39m):\n\u001b[0;32m    255\u001b[0m \u001b[38;5;250m    \u001b[39m\u001b[38;5;124;03m\"\"\"\u001b[39;00m\n\u001b[0;32m    256\u001b[0m \u001b[38;5;124;03m    Parse and return all tables from the DOM.\u001b[39;00m\n\u001b[0;32m    257\u001b[0m \n\u001b[1;32m   (...)\u001b[0m\n\u001b[0;32m    260\u001b[0m \u001b[38;5;124;03m    list of parsed (header, body, footer) tuples from tables.\u001b[39;00m\n\u001b[0;32m    261\u001b[0m \u001b[38;5;124;03m    \"\"\"\u001b[39;00m\n\u001b[1;32m--> 262\u001b[0m     tables \u001b[38;5;241m=\u001b[39m \u001b[38;5;28mself\u001b[39m\u001b[38;5;241m.\u001b[39m_parse_tables(\u001b[38;5;28mself\u001b[39m\u001b[38;5;241m.\u001b[39m_build_doc(), \u001b[38;5;28mself\u001b[39m\u001b[38;5;241m.\u001b[39mmatch, \u001b[38;5;28mself\u001b[39m\u001b[38;5;241m.\u001b[39mattrs)\n\u001b[0;32m    263\u001b[0m     \u001b[38;5;28;01mreturn\u001b[39;00m (\u001b[38;5;28mself\u001b[39m\u001b[38;5;241m.\u001b[39m_parse_thead_tbody_tfoot(table) \u001b[38;5;28;01mfor\u001b[39;00m table \u001b[38;5;129;01min\u001b[39;00m tables)\n",
      "File \u001b[1;32m~\\anaconda3\\Lib\\site-packages\\pandas\\io\\html.py:821\u001b[0m, in \u001b[0;36m_LxmlFrameParser._build_doc\u001b[1;34m(self)\u001b[0m\n\u001b[0;32m    819\u001b[0m             \u001b[38;5;28;01mpass\u001b[39;00m\n\u001b[0;32m    820\u001b[0m     \u001b[38;5;28;01melse\u001b[39;00m:\n\u001b[1;32m--> 821\u001b[0m         \u001b[38;5;28;01mraise\u001b[39;00m e\n\u001b[0;32m    822\u001b[0m \u001b[38;5;28;01melse\u001b[39;00m:\n\u001b[0;32m    823\u001b[0m     \u001b[38;5;28;01mif\u001b[39;00m \u001b[38;5;129;01mnot\u001b[39;00m \u001b[38;5;28mhasattr\u001b[39m(r, \u001b[38;5;124m\"\u001b[39m\u001b[38;5;124mtext_content\u001b[39m\u001b[38;5;124m\"\u001b[39m):\n",
      "File \u001b[1;32m~\\anaconda3\\Lib\\site-packages\\pandas\\io\\html.py:802\u001b[0m, in \u001b[0;36m_LxmlFrameParser._build_doc\u001b[1;34m(self)\u001b[0m\n\u001b[0;32m    800\u001b[0m \u001b[38;5;28;01mtry\u001b[39;00m:\n\u001b[0;32m    801\u001b[0m     \u001b[38;5;28;01mif\u001b[39;00m is_url(\u001b[38;5;28mself\u001b[39m\u001b[38;5;241m.\u001b[39mio):\n\u001b[1;32m--> 802\u001b[0m         \u001b[38;5;28;01mwith\u001b[39;00m urlopen(\u001b[38;5;28mself\u001b[39m\u001b[38;5;241m.\u001b[39mio) \u001b[38;5;28;01mas\u001b[39;00m f:\n\u001b[0;32m    803\u001b[0m             r \u001b[38;5;241m=\u001b[39m parse(f, parser\u001b[38;5;241m=\u001b[39mparser)\n\u001b[0;32m    804\u001b[0m     \u001b[38;5;28;01melse\u001b[39;00m:\n\u001b[0;32m    805\u001b[0m         \u001b[38;5;66;03m# try to parse the input in the simplest way\u001b[39;00m\n",
      "File \u001b[1;32m~\\anaconda3\\Lib\\site-packages\\pandas\\io\\common.py:265\u001b[0m, in \u001b[0;36murlopen\u001b[1;34m(*args, **kwargs)\u001b[0m\n\u001b[0;32m    259\u001b[0m \u001b[38;5;250m\u001b[39m\u001b[38;5;124;03m\"\"\"\u001b[39;00m\n\u001b[0;32m    260\u001b[0m \u001b[38;5;124;03mLazy-import wrapper for stdlib urlopen, as that imports a big chunk of\u001b[39;00m\n\u001b[0;32m    261\u001b[0m \u001b[38;5;124;03mthe stdlib.\u001b[39;00m\n\u001b[0;32m    262\u001b[0m \u001b[38;5;124;03m\"\"\"\u001b[39;00m\n\u001b[0;32m    263\u001b[0m \u001b[38;5;28;01mimport\u001b[39;00m \u001b[38;5;21;01murllib\u001b[39;00m\u001b[38;5;21;01m.\u001b[39;00m\u001b[38;5;21;01mrequest\u001b[39;00m\n\u001b[1;32m--> 265\u001b[0m \u001b[38;5;28;01mreturn\u001b[39;00m urllib\u001b[38;5;241m.\u001b[39mrequest\u001b[38;5;241m.\u001b[39murlopen(\u001b[38;5;241m*\u001b[39margs, \u001b[38;5;241m*\u001b[39m\u001b[38;5;241m*\u001b[39mkwargs)\n",
      "File \u001b[1;32m~\\anaconda3\\Lib\\urllib\\request.py:216\u001b[0m, in \u001b[0;36murlopen\u001b[1;34m(url, data, timeout, cafile, capath, cadefault, context)\u001b[0m\n\u001b[0;32m    214\u001b[0m \u001b[38;5;28;01melse\u001b[39;00m:\n\u001b[0;32m    215\u001b[0m     opener \u001b[38;5;241m=\u001b[39m _opener\n\u001b[1;32m--> 216\u001b[0m \u001b[38;5;28;01mreturn\u001b[39;00m opener\u001b[38;5;241m.\u001b[39mopen(url, data, timeout)\n",
      "File \u001b[1;32m~\\anaconda3\\Lib\\urllib\\request.py:525\u001b[0m, in \u001b[0;36mOpenerDirector.open\u001b[1;34m(self, fullurl, data, timeout)\u001b[0m\n\u001b[0;32m    523\u001b[0m \u001b[38;5;28;01mfor\u001b[39;00m processor \u001b[38;5;129;01min\u001b[39;00m \u001b[38;5;28mself\u001b[39m\u001b[38;5;241m.\u001b[39mprocess_response\u001b[38;5;241m.\u001b[39mget(protocol, []):\n\u001b[0;32m    524\u001b[0m     meth \u001b[38;5;241m=\u001b[39m \u001b[38;5;28mgetattr\u001b[39m(processor, meth_name)\n\u001b[1;32m--> 525\u001b[0m     response \u001b[38;5;241m=\u001b[39m meth(req, response)\n\u001b[0;32m    527\u001b[0m \u001b[38;5;28;01mreturn\u001b[39;00m response\n",
      "File \u001b[1;32m~\\anaconda3\\Lib\\urllib\\request.py:634\u001b[0m, in \u001b[0;36mHTTPErrorProcessor.http_response\u001b[1;34m(self, request, response)\u001b[0m\n\u001b[0;32m    631\u001b[0m \u001b[38;5;66;03m# According to RFC 2616, \"2xx\" code indicates that the client's\u001b[39;00m\n\u001b[0;32m    632\u001b[0m \u001b[38;5;66;03m# request was successfully received, understood, and accepted.\u001b[39;00m\n\u001b[0;32m    633\u001b[0m \u001b[38;5;28;01mif\u001b[39;00m \u001b[38;5;129;01mnot\u001b[39;00m (\u001b[38;5;241m200\u001b[39m \u001b[38;5;241m<\u001b[39m\u001b[38;5;241m=\u001b[39m code \u001b[38;5;241m<\u001b[39m \u001b[38;5;241m300\u001b[39m):\n\u001b[1;32m--> 634\u001b[0m     response \u001b[38;5;241m=\u001b[39m \u001b[38;5;28mself\u001b[39m\u001b[38;5;241m.\u001b[39mparent\u001b[38;5;241m.\u001b[39merror(\n\u001b[0;32m    635\u001b[0m         \u001b[38;5;124m'\u001b[39m\u001b[38;5;124mhttp\u001b[39m\u001b[38;5;124m'\u001b[39m, request, response, code, msg, hdrs)\n\u001b[0;32m    637\u001b[0m \u001b[38;5;28;01mreturn\u001b[39;00m response\n",
      "File \u001b[1;32m~\\anaconda3\\Lib\\urllib\\request.py:563\u001b[0m, in \u001b[0;36mOpenerDirector.error\u001b[1;34m(self, proto, *args)\u001b[0m\n\u001b[0;32m    561\u001b[0m \u001b[38;5;28;01mif\u001b[39;00m http_err:\n\u001b[0;32m    562\u001b[0m     args \u001b[38;5;241m=\u001b[39m (\u001b[38;5;28mdict\u001b[39m, \u001b[38;5;124m'\u001b[39m\u001b[38;5;124mdefault\u001b[39m\u001b[38;5;124m'\u001b[39m, \u001b[38;5;124m'\u001b[39m\u001b[38;5;124mhttp_error_default\u001b[39m\u001b[38;5;124m'\u001b[39m) \u001b[38;5;241m+\u001b[39m orig_args\n\u001b[1;32m--> 563\u001b[0m     \u001b[38;5;28;01mreturn\u001b[39;00m \u001b[38;5;28mself\u001b[39m\u001b[38;5;241m.\u001b[39m_call_chain(\u001b[38;5;241m*\u001b[39margs)\n",
      "File \u001b[1;32m~\\anaconda3\\Lib\\urllib\\request.py:496\u001b[0m, in \u001b[0;36mOpenerDirector._call_chain\u001b[1;34m(self, chain, kind, meth_name, *args)\u001b[0m\n\u001b[0;32m    494\u001b[0m \u001b[38;5;28;01mfor\u001b[39;00m handler \u001b[38;5;129;01min\u001b[39;00m handlers:\n\u001b[0;32m    495\u001b[0m     func \u001b[38;5;241m=\u001b[39m \u001b[38;5;28mgetattr\u001b[39m(handler, meth_name)\n\u001b[1;32m--> 496\u001b[0m     result \u001b[38;5;241m=\u001b[39m func(\u001b[38;5;241m*\u001b[39margs)\n\u001b[0;32m    497\u001b[0m     \u001b[38;5;28;01mif\u001b[39;00m result \u001b[38;5;129;01mis\u001b[39;00m \u001b[38;5;129;01mnot\u001b[39;00m \u001b[38;5;28;01mNone\u001b[39;00m:\n\u001b[0;32m    498\u001b[0m         \u001b[38;5;28;01mreturn\u001b[39;00m result\n",
      "File \u001b[1;32m~\\anaconda3\\Lib\\urllib\\request.py:643\u001b[0m, in \u001b[0;36mHTTPDefaultErrorHandler.http_error_default\u001b[1;34m(self, req, fp, code, msg, hdrs)\u001b[0m\n\u001b[0;32m    642\u001b[0m \u001b[38;5;28;01mdef\u001b[39;00m \u001b[38;5;21mhttp_error_default\u001b[39m(\u001b[38;5;28mself\u001b[39m, req, fp, code, msg, hdrs):\n\u001b[1;32m--> 643\u001b[0m     \u001b[38;5;28;01mraise\u001b[39;00m HTTPError(req\u001b[38;5;241m.\u001b[39mfull_url, code, msg, hdrs, fp)\n",
      "\u001b[1;31mHTTPError\u001b[0m: HTTP Error 403: Forbidden"
     ]
    }
   ],
   "source": [
    "\n",
    "\n",
    "# list of dataframes with ISINs >>\n",
    "tables = pd.read_html(url)\n",
    "\n",
    "print('\\n', len(tables), ' table(s) available')"
   ]
  },
  {
   "cell_type": "code",
   "execution_count": 36,
   "id": "71eedb1c",
   "metadata": {},
   "outputs": [],
   "source": [
    "# dictionary of dataframes with ISINs >>\n",
    "dfd={'i1':pd.read_csv(r\"Offers.csv\",\n",
    "                 skiprows=3, sep='\\t', header=1),\n",
    " 'i2':pd.read_csv(r\"Coupon_payments.csv\",\n",
    "                 skiprows=3, sep='\\t', header=1),\n",
    " 'i3':pd.read_csv(r\"Redemption_and_amortisation.csv\",\n",
    "                 skiprows=3, sep=';', header=0),\n",
    " 'i4':pd.read_csv(r\"securities.csv\",\n",
    "                 skiprows=1, sep=';', header=0)}"
   ]
  },
  {
   "cell_type": "code",
   "execution_count": 37,
   "id": "7a8eac58",
   "metadata": {},
   "outputs": [
    {
     "name": "stdout",
     "output_type": "stream",
     "text": [
      "\n",
      "             ISIN            Security full name\n",
      "0   RU000A0P1Y12          VEB.RF PBO-002P-K485\n",
      "1   RU000A103WM7            TransFin-M 001P-08\n",
      "2   RU000A101HP5                INGRAD 002P-02\n",
      "3   RU000A100YQ0               Rosneft 002P-09\n",
      "4   RU000A0ZYG37             INGRAD BO-001P-01\n",
      "5   RU000A0JVWB3          Rosselkhozbank BO-09\n",
      "6   RU000A0JXPK4               Transneft BO-07\n",
      "7   RU000A0UD7A5      ALFA C-1-91 (structural)\n",
      "8   RU000A1069E7  Bank VTB C-1-515(structural)\n",
      "9   RU000A0UD6A7  Bank VTB C-1-467(structural)\n",
      "10  RU000A0P1Y04          VEB.RF PBO-002P-K484\n",
      "11  RU000A0JXPK4               Transneft BO-07\n",
      "12  RU000A0JWWM8            TransFin-M 001P-01\n",
      "13  RU000A0JT7T2                FGC ROSSETI 21\n",
      "14  RU000A1048E1  Bank VTB C-1-130(structural)\n",
      "15  RU000A1038H5   Bank VTB C-1-40(structural)\n",
      "16  RU000A102ZX9   Bank VTB C-1-7 (structural)\n",
      "17  RU000A101HP5                INGRAD 002P-02\n",
      "18  RU000A0ZYG37             INGRAD BO-001P-01\n",
      "19  RU000A107548          QIWI Finance 001P-02\n",
      "20  RU000A104XU6     HC Finance LLC BO 001P-08\n",
      "21  RU000A101HP5                INGRAD 002P-02\n",
      "22  RU000A0ZYG37             INGRAD BO-001P-01\n",
      "23  RU000A0JT6B2                     VEB.RF 19\n",
      "\n",
      "              ISIN         Security full name\n",
      "0    RU000A102A49               OFZ-PK 29019\n",
      "1    RU000A1025A7               OFZ-PK 29015\n",
      "2    RU000A101CK7               OFZ PK 24021\n",
      "3    RU000A107MM9           KAMAZ PTC BO-P11\n",
      "4    RU000A107GU4    MFC Bistrodengi 002P-04\n",
      "..            ...                        ...\n",
      "357  RU000A101UW4  SPE Social Development 02\n",
      "358  RU000A101UU8  SPE Social Development 01\n",
      "359  RU000A100XC2              Polyus PBO-01\n",
      "360  RU000A1009A1         MegaFon BO-002P-02\n",
      "361  RU000A0JU7S1             FGC ROSSETI 29\n",
      "\n",
      "[362 rows x 2 columns]\n",
      "\n",
      "             ISIN              Security full name\n",
      "0   RU000A101CK7                    OFZ PK 24021\n",
      "1   RU000A106AK0            SOBI-LEASING 001P-02\n",
      "2   RU000A105JN7     Global Factoring BO-01-001P\n",
      "3   RU000A105CL6            SOBI-LEASING 001P-01\n",
      "4   RU000A1013C9  East Siberian petroleum BO-P01\n",
      "5   RU000A0P1Y12            VEB.RF PBO-002P-K485\n",
      "6   RU000A0NNHN8    Bank VTB C-1-254(structural)\n",
      "7   RU000A107M32      Aquilon-Leasing BO-03-001P\n",
      "8   RU000A106YR5   DOM.RF Mortgage agent BO 1P37\n",
      "9   RU000A105BP9                 REATORG 001P-01\n",
      "10  RU000A103CW8                   MFC Zaymer 02\n",
      "11  RU000A1030Y7    Avto Finance Bank BO-001P-08\n",
      "12  RU000A1030S9                       Moscow-72\n",
      "13  RU000A104HG8    Bank VTB C-1-187(structural)\n",
      "14  RU000A1030F6           Raiffeisenbank BPO-02\n",
      "15  RU000A1078X8        DirectLeasing BO 002P-02\n",
      "16  RU000A100CG7     ObjedinenieAgroElita BO-P03\n",
      "17  RU000A102ZC3                  SFO Azimuth 01\n",
      "18  RU000A0NNE85                Bank VTB B-1-186\n",
      "19  RU000A1078H1            SOBI-LEASING 001P-03\n",
      "20  RU000A105P64                   Ferroni BO-02\n",
      "21  RU000A0NX3F8       ALFA C-1-226 (structural)\n",
      "22  RU000A0JXQ51          AVTOBAN-Finance B0-P01\n",
      "23  RU000A103117              MV FINANCE 001P-01\n",
      "24  RU000A1030U5           EconomLeasing 001P-03\n",
      "25  RU000A1030D1               ALFA-BANK 002P-11\n",
      "26  RU000A0JXP45               Gazprombank BO-16\n",
      "27  RU000A1089Z0               Bank VTB KS-4-690\n",
      "28  RU000A107EE3            SOBI-LEASING 001P-04\n",
      "29  RU000A103WD6                       PIM BO-01\n",
      "30  RU000A1030X9           Setl-Grupp BO-001P-03\n",
      "31  RU000A1030N0              FES-Agro LLC BO-02\n",
      "32  RU000A1026R9           Siberian Glass BO-P02\n",
      "33  RU000A100YE6           TransContainer PBO-01\n",
      "34  RU000A0P1Y04            VEB.RF PBO-002P-K484\n",
      "35  RU000A0NX373       ALFA C-1-218 (structural)\n",
      "36  RU000A0NNG91    Bank VTB C-1-234(structural)\n",
      "37  RU000A104VD6              SFO Sputnik Fin 01\n",
      "38  RU000A0JUG56    International Invest. Bank 1\n",
      "39  RU000A1071U9      Element Leasing BO 001P-06\n",
      "40  RU000A106KW4      Element Leasing BO 001P-05\n",
      "41  RU000A103XP8                  Ferroni BO-P01\n",
      "42  RU000A105849                    Fordewind 01\n",
      "43  RU000A103X74          Fabrica FAVORIT BO-P01\n",
      "44  RU000A1011Q3           Novosibirsk region 20\n",
      "45  RU000A105V74      Element Leasing BO 001P-04\n",
      "46  RU000A105UZ8              MFC Summit 001P-01\n",
      "47  RU000A102895        Novosibirsk region 34021\n",
      "48  RU000A104B04          Petersburgsnab 001P-01\n",
      "49  RU000A0JUW23                   Rosbank 15-IP\n",
      "50  RU000A103B05                 TATNEFTEKHIM 02\n",
      "51  RU000A103QJ5                   MFC Zaymer 03\n",
      "52  RU000A102ZH2                   YATEC 001P-02\n",
      "53  RU000A101UW4       SPE Social Development 02\n",
      "54  RU000A101UU8       SPE Social Development 01\n",
      "\n",
      "              SECID    BID\n",
      "0     RU000A1036C0    NaN\n",
      "1     SU26239RMFS2    NaN\n",
      "2     SU25083RMFS5    NaN\n",
      "3     SU25084RMFS3    NaN\n",
      "4     SU26207RMFS9    NaN\n",
      "...            ...    ...\n",
      "2382  RU000A100EM1    NaN\n",
      "2383  RU000A100M47   3.42\n",
      "2384  RU000A100Q76  11.17\n",
      "2385  RU000A1015D2    NaN\n",
      "2386  RU000A101HQ3  33.01\n",
      "\n",
      "[2387 rows x 2 columns]\n"
     ]
    }
   ],
   "source": [
    "# print ISIN & Security full name >>\n",
    "for i in dfd:\n",
    "  print('\\n', dfd[i].iloc[:,:2])\n"
   ]
  },
  {
   "cell_type": "code",
   "execution_count": 38,
   "id": "faaaa41e",
   "metadata": {},
   "outputs": [
    {
     "name": "stderr",
     "output_type": "stream",
     "text": [
      "C:\\Users\\mixas\\AppData\\Local\\Temp\\ipykernel_19236\\1834326008.py:4: DeprecationWarning: deprecated\n",
      "  warnings.warn(\"deprecated\", DeprecationWarning)\n"
     ]
    }
   ],
   "source": [
    "# ignoring warnings that frame.append method is deprecated >>\n",
    "# ( .append() method removed in Python 3.11,\n",
    "#   because it couldn’t handle large datasets )\n",
    "warnings.warn(\"deprecated\", DeprecationWarning)\n",
    "warnings.simplefilter(\"ignore\")"
   ]
  },
  {
   "cell_type": "code",
   "execution_count": 39,
   "id": "213b4c08",
   "metadata": {},
   "outputs": [],
   "source": [
    "startDate = dt.datetime.today()- dt.timedelta(days=1)\n",
    "endDate = dt.datetime.today()"
   ]
  },
  {
   "cell_type": "code",
   "execution_count": 40,
   "id": "5c4fcb66",
   "metadata": {},
   "outputs": [
    {
     "name": "stdout",
     "output_type": "stream",
     "text": [
      "Введите минимальную дюрацию: 500\n",
      "Введите максимальную дюрацию: 5000\n"
     ]
    }
   ],
   "source": [
    "## set duration limits >>\n",
    "# 'input' may not work in old Spyder >>\n",
    "dmin = int(input(\"Введите минимальную дюрацию: \"))\n",
    "dmax = int(input(\"Введите максимальную дюрацию: \"))"
   ]
  },
  {
   "cell_type": "code",
   "execution_count": 42,
   "id": "69e14606",
   "metadata": {},
   "outputs": [],
   "source": [
    "tickers = dfd['i2'].iloc[:,:2].get('ISIN')\n",
    "\n",
    "# choose list of ISINs >>\n",
    "tickers = dfd['i1'].iloc[:,:2].get('ISIN')\n",
    "tickers = dfd['i3'].iloc[:,:2].get('ISIN')\n",
    "tickers = dfd['i4'].iloc[:,:2].get('SECID')\n",
    "tickers = ['RU000A105RG4','SU25083RMFS5','SU26207RMFS9']"
   ]
  },
  {
   "cell_type": "code",
   "execution_count": 43,
   "id": "1c270bca",
   "metadata": {},
   "outputs": [
    {
     "name": "stdout",
     "output_type": "stream",
     "text": [
      "\n",
      ">>> 3 tickers in the list\n",
      "RU000A105RG4 дюрация 586\n",
      "SU26207RMFS9 дюрация 859\n"
     ]
    }
   ],
   "source": [
    "print('\\n>>>', len(tickers), 'tickers in the list')\n",
    "\n",
    "## find bonds by duration >>\n",
    "for tcr in tickers:\n",
    "  try:\n",
    "    df = web.DataReader(tcr, 'moex', startDate, endDate)\n",
    "  except:\n",
    "    continue\n",
    "  try:\n",
    "    if (df.DURATION[0]>dmin) and (df.DURATION[0]<dmax):\n",
    "      print(tcr, 'дюрация', int(df.DURATION[0]) )\n",
    "  except:\n",
    "    pass"
   ]
  },
  {
   "cell_type": "code",
   "execution_count": 44,
   "id": "a739d0e4",
   "metadata": {},
   "outputs": [
    {
     "name": "stdout",
     "output_type": "stream",
     "text": [
      "\n",
      " Bond(secid='RU000A104XU6', shortname='ХКФинБ1P8', amortization=[Amortization(date=datetime.date(2025, 7, 4), value=1000, initialfacevalue=1000)], coupons=[Coupon(date=2022-10-07, value=24.31), Coupon(date=2023-01-06, value=24.31), Coupon(date=2023-04-07, value=24.31), Coupon(date=2023-07-07, value=24.31), Coupon(date=2023-10-06, value=24.31), Coupon(date=2024-01-05, value=32.41), Coupon(date=2024-04-05, value=32.41), Coupon(date=2024-07-05, value=32.41), Coupon(date=2024-10-04, value=32.41), Coupon(date=2025-01-03, value=None), Coupon(date=2025-04-04, value=None), Coupon(date=2025-07-04, value=None)], offers=[Offer(date=datetime.date(2023, 10, 11), value=1001.78), Offer(date=datetime.date(2024, 4, 10), value=1001.78), Offer(date=datetime.date(2024, 10, 9), value=1001.78)])\n"
     ]
    }
   ],
   "source": [
    "# for example... >>\n",
    "bi = moexapi.Bond(moexapi.get_ticker('RU000A104XU6'))\n",
    "print('\\n', bi)"
   ]
  },
  {
   "cell_type": "code",
   "execution_count": 45,
   "id": "d7d93422",
   "metadata": {},
   "outputs": [
    {
     "data": {
      "text/plain": [
       "Offer(date=datetime.date(2024, 10, 9), value=1001.78)"
      ]
     },
     "execution_count": 45,
     "metadata": {},
     "output_type": "execute_result"
    }
   ],
   "source": [
    "# get object attribute values >>\n",
    "bi.expiration_date\n",
    "bi.coupons\n",
    "bi.next_offer()"
   ]
  },
  {
   "cell_type": "code",
   "execution_count": null,
   "id": "df6d94a9",
   "metadata": {},
   "outputs": [],
   "source": []
  }
 ],
 "metadata": {
  "kernelspec": {
   "display_name": "Python 3 (ipykernel)",
   "language": "python",
   "name": "python3"
  },
  "language_info": {
   "codemirror_mode": {
    "name": "ipython",
    "version": 3
   },
   "file_extension": ".py",
   "mimetype": "text/x-python",
   "name": "python",
   "nbconvert_exporter": "python",
   "pygments_lexer": "ipython3",
   "version": "3.11.4"
  }
 },
 "nbformat": 4,
 "nbformat_minor": 5
}
